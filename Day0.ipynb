{
 "cells": [
  {
   "cell_type": "code",
   "execution_count": null,
   "metadata": {},
   "outputs": [],
   "source": [
    "import math\n",
    "import matplotlib.pyplot as plt\n",
    "import numpy as np"
   ]
  },
  {
   "cell_type": "code",
   "execution_count": null,
   "metadata": {
    "collapsed": true
   },
   "outputs": [],
   "source": [
    "def f(x):\n",
    "    return (x+2)**2 -16 * (np.exp(-(x-2)**2))\n",
    "def df(x):\n",
    "    return 2*x +4 + 32 * (np.exp(-(x-2)**2)) * (x-2)\n",
    "\n",
    "def gradient_descent_step(x, eps=0.01):\n",
    "    fval = f(x)\n",
    "    dfval = df(x)\n",
    "    return x - eps * dfval\n",
    "    "
   ]
  },
  {
   "cell_type": "code",
   "execution_count": null,
   "metadata": {
    "scrolled": true
   },
   "outputs": [],
   "source": [
    "%matplotlib inline\n",
    "\n",
    "curvex = np.linspace(-8,8,1000)\n",
    "res = list()\n",
    "x = 2\n",
    "prec = 0.001\n",
    "while True:\n",
    "    xnew = gradient_descent_step(x)\n",
    "    res.append(xnew)\n",
    "    if np.abs(x - xnew) <  prec or xnew > 4:\n",
    "        break\n",
    "    x = xnew\n",
    "plt.plot(curvex, f(curvex), 'b-')\n",
    "plt.plot(res, [f(r) for r in res], 'gx') \n",
    "plt.show()"
   ]
  },
  {
   "cell_type": "code",
   "execution_count": 150,
   "metadata": {
    "collapsed": true
   },
   "outputs": [],
   "source": [
    "def infer(w, f_length):\n",
    "    x = np.ones((f_length.shape[0], 2))\n",
    "    x[:, 0] = f_length\n",
    "    return np.multiply(w, x).sum(axis=1)\n",
    "def lost(w, f_length, s_length):\n",
    "    x = np.ones((f_length.shape[0], 2))\n",
    "    x[:, 0] = f_length\n",
    "    return (s_length-np.multiply(w, x).sum(axis=1))**2/ f_length.shape[0]\n",
    "\n",
    "def dlost(w, f_length, s_length):\n",
    "    x = np.ones((f_length.shape[0], 2))\n",
    "    x[:, 0] = f_length\n",
    "\n",
    "    diff = 2*(np.multiply(w, x).sum(axis=1) - s_length)\n",
    "    firstpart = np.tile(diff, (2,1)).transpose()\n",
    "    gradient = np.multiply(firstpart, x).sum(axis=0) / f_length.shape[0]\n",
    "    return gradient\n",
    "\n",
    "def gradient_descent_step(w, f_length, s_length, eps=0.001):\n",
    "    fval = lost(w, f_length, s_length)\n",
    "    dfval = dlost(w, f_length, s_length)\n",
    "    return w - eps * dfval, fval.sum() \n",
    "\n"
   ]
  },
  {
   "cell_type": "code",
   "execution_count": 151,
   "metadata": {},
   "outputs": [
    {
     "name": "stdout",
     "output_type": "stream",
     "text": [
      "None\n"
     ]
    }
   ],
   "source": [
    "import sys\n",
    "print(sys.path.append('/home/lxmls2017/Desktop/workspace/lxmls-toolkit'))\n",
    "from lxmls.readers import galton\n",
    "galton_data = galton.load()"
   ]
  },
  {
   "cell_type": "code",
   "execution_count": 153,
   "metadata": {},
   "outputs": [
    {
     "name": "stdout",
     "output_type": "stream",
     "text": [
      "(1, array([ 5.69570212,  0.16719945]), 1489.1397871643785)\n",
      "(2, array([-38.20975849,  -0.47508421]), 103218.43784926558)\n",
      "(3, array([ 327.97927126,    4.88212175]), 7179736.8716488853)\n",
      "(4, array([-2726.18313758,   -39.79880608]), 499438251.3541612)\n",
      "(5, array([ 22746.74818067,    332.85823807]), 34742046017.781494)\n",
      "(6, array([-189707.64788972,   -2775.249679  ]), 2416734743245.2637)\n",
      "(7, array([ 1582246.66096621,    23147.60897948]), 168113496168289.66)\n",
      "(8, array([-13196558.25320258,   -193059.36005863]), 11694352337582260.0)\n",
      "(9, array([  1.10064563e+08,   1.61019290e+06]), 8.1348541141882394e+17)\n",
      "(10, array([ -9.17982297e+08,  -1.34296494e+07]), 5.658787211879646e+19)\n"
     ]
    }
   ],
   "source": [
    "w=np.random.rand(2)\n",
    "step = 1\n",
    "while True:\n",
    "    w, lostv = gradient_descent_step(w, galton_data[:,0], galton_data[:,1]) \n",
    "    print(step, w, lostv)\n",
    "    step += 1\n",
    "    if step > 10:\n",
    "        break"
   ]
  },
  {
   "cell_type": "code",
   "execution_count": 139,
   "metadata": {},
   "outputs": [],
   "source": [
    "np.tile?"
   ]
  },
  {
   "cell_type": "code",
   "execution_count": null,
   "metadata": {},
   "outputs": [],
   "source": [
    "neww.shape, lostv"
   ]
  },
  {
   "cell_type": "code",
   "execution_count": null,
   "metadata": {
    "collapsed": true
   },
   "outputs": [],
   "source": []
  }
 ],
 "metadata": {
  "kernelspec": {
   "display_name": "Python 2",
   "language": "python",
   "name": "python2"
  },
  "language_info": {
   "codemirror_mode": {
    "name": "ipython",
    "version": 2
   },
   "file_extension": ".py",
   "mimetype": "text/x-python",
   "name": "python",
   "nbconvert_exporter": "python",
   "pygments_lexer": "ipython2",
   "version": "2.7.13"
  }
 },
 "nbformat": 4,
 "nbformat_minor": 2
}
