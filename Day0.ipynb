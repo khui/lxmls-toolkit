{
 "cells": [
  {
   "cell_type": "code",
   "execution_count": 1,
   "metadata": {
    "collapsed": true
   },
   "outputs": [],
   "source": [
    "import math\n",
    "import matplotlib.pyplot as plt\n",
    "import numpy as np"
   ]
  },
  {
   "cell_type": "code",
   "execution_count": 2,
   "metadata": {},
   "outputs": [
    {
     "name": "stdout",
     "output_type": "stream",
     "text": [
      "None\n"
     ]
    }
   ],
   "source": [
    "import sys\n",
    "print(sys.path.append('/home/lxmls2017/Desktop/workspace/lxmls-toolkit'))\n",
    "from lxmls.readers import galton\n",
    "galton_data = galton.load()"
   ]
  },
  {
   "cell_type": "code",
   "execution_count": 3,
   "metadata": {
    "collapsed": true
   },
   "outputs": [],
   "source": [
    "def f(x):\n",
    "    return (x+2)**2 -16 * (np.exp(-(x-2)**2))\n",
    "def df(x):\n",
    "    return 2*x +4 + 32 * (np.exp(-(x-2)**2)) * (x-2)\n",
    "\n",
    "def gradient_descent_step(x, eps=0.01):\n",
    "    fval = f(x)\n",
    "    dfval = df(x)\n",
    "    return x - eps * dfval\n",
    "    "
   ]
  },
  {
   "cell_type": "code",
   "execution_count": 4,
   "metadata": {
    "scrolled": true
   },
   "outputs": [
    {
     "data": {
      "image/png": "[encoded data removed]",
      "text/plain": [
       "<matplotlib.figure.Figure at 0x7fb310f66da0>"
      ]
     },
     "metadata": {},
     "output_type": "display_data"
    }
   ],
   "source": [
    "%matplotlib inline\n",
    "\n",
    "curvex = np.linspace(-8,8,1000)\n",
    "res = list()\n",
    "x = 2\n",
    "prec = 0.001\n",
    "while True:\n",
    "    xnew = gradient_descent_step(x)\n",
    "    res.append(xnew)\n",
    "    if np.abs(x - xnew) <  prec or xnew > 4:\n",
    "        break\n",
    "    x = xnew\n",
    "plt.plot(curvex, f(curvex), 'b-')\n",
    "plt.plot(res, [f(r) for r in res], 'gx') \n",
    "plt.show()"
   ]
  },
  {
   "cell_type": "code",
   "execution_count": 29,
   "metadata": {
    "collapsed": true
   },
   "outputs": [],
   "source": [
    "def _extend_x_bias(feature_x):\n",
    "    x = np.ones((feature_x.shape[0], feature_x.shape[1]+1))\n",
    "    x[:, :-1] = feature_x\n",
    "    return x\n",
    "\n",
    "def predict(w, feature_x):\n",
    "    x = _extend_x_bias(feature_x)\n",
    "    w_exp = np.tile(w, (x.shape[0],1))\n",
    "    return np.multiply(w_exp, x).sum(axis=1)\n",
    "\n",
    "\n",
    "def lost(w, feature_x, y):\n",
    "    x = _extend_x_bias(feature_x)\n",
    "    w_exp = np.tile(w, (x.shape[0],1))\n",
    "    assert x.shape == w_exp.shape, '(%d,%d) vs (%d,%d)'%(x.shape[0], x.shape[1], w_exp.shape[0], w_exp.shape[1])\n",
    "    return (np.multiply(w_exp, x).sum(axis=1)-y)**2\n",
    "\n",
    "def dlost(w, feature_x, y):\n",
    "    x = _extend_x_bias(feature_x)\n",
    "    w_exp = np.tile(w, (x.shape[0],1))\n",
    "    assert x.shape == w_exp.shape\n",
    "    diff = 2*(np.multiply(w_exp, x).sum(axis=1) - y)\n",
    "    firstpart = np.tile(diff, (2,1)).transpose()\n",
    "    gradient = np.multiply(firstpart, x).sum(axis=0) / x.shape[0]\n",
    "    return gradient\n",
    "\n",
    "def gradient_descent_step(w, x, y, eps=0.0008):\n",
    "    curr_lost = lost(w, x, y)\n",
    "    gradient = dlost(w, x, y)\n",
    "    print(gradient)\n",
    "    return w - eps * gradient, curr_lost\n",
    "\n",
    "\n",
    "def gradient_check(w, feature_x, y, h=0.01):\n",
    "    delta = np.array([h / 2, 0])\n",
    "    y_right = lost(w + delta, feature_x, y)\n",
    "    y_left = lost(w - delta, feature_x, y)\n",
    "    n_gradient = ((y_right - y_left) / h).sum() / feature_x.shape[0]\n",
    "    gradient = dlost(w, feature_x, y)\n",
    "    diff = 2 * (gradient[0] - n_gradient) / (gradient[0] + n_gradient)\n",
    "    return diff"
   ]
  },
  {
   "cell_type": "code",
   "execution_count": 31,
   "metadata": {},
   "outputs": [
    {
     "name": "stdout",
     "output_type": "stream",
     "text": [
      "2 [  0.64629058  23.94153018] 3.4586335882e-08\n",
      "3 [ 0.76161081  0.19435051] 6.50434177321e-15\n",
      "4 [ 0.16649628  0.78938416] -2.3797942581e-15\n",
      "5 [ 0.54051898  0.70869759] -6.99321673077e-15\n",
      "6 [ 0.40784657  0.58123879] -1.84649071836e-15\n",
      "7 [ 0.65241507  0.72713281] -4.67265087193e-15\n",
      "8 [ 0.90089749  0.43211373] 9.40405100744e-15\n",
      "9 [ 0.16965182  0.50395788] 1.54494077397e-15\n",
      "10 [ 0.90485999  0.01631787] 1.33130346345e-15\n",
      "11 [ 0.5715352   0.42839294] 1.51180259585e-15\n",
      "12 [ 0.28122551  0.7270694 ] -4.56088031042e-15\n",
      "13 [ 0.23931984  0.41245523] -1.4261677092e-15\n",
      "14 [ 0.530181   0.7579522] 2.35313683874e-15\n",
      "15 [ 0.95737967  0.6057174 ] -2.209618046e-15\n",
      "16 [ 0.4664542   0.47292005] 7.44635930643e-16\n",
      "17 [ 0.30294101  0.41217839] -6.09084334203e-15\n",
      "18 [ 0.38459383  0.83216173] -1.29905843689e-15\n",
      "19 [ 0.18696635  0.71143484] -1.21867746217e-15\n",
      "20 [ 0.14603575  0.4686011 ] -9.46624769535e-15\n",
      "21 [ 0.60875372  0.88580433] 3.1179788668e-15\n",
      "22 [ 0.61755886  0.64897267] -1.84510918232e-15\n",
      "23 [ 0.00898302  0.74294284] -1.01711551407e-14\n",
      "24 [ 0.81416449  0.38894931] -3.03165876937e-15\n",
      "25 [ 0.84645471  0.06469322] 4.89764059692e-15\n",
      "26 [ 0.80157094  0.87870146] -2.80759386027e-15\n",
      "27 [ 0.59167736  0.10450413] -1.26770509982e-14\n",
      "28 [ 0.78714725  0.91396543] 6.33468196707e-15\n",
      "29 [ 0.11909204  0.69567789] 2.24595569627e-16\n",
      "30 [ 0.60364711  0.51229639] 3.66422084768e-15\n",
      "31 [ 0.2552145   0.71708085] 1.33261933926e-15\n",
      "32 [ 0.41221666  0.99359874] -1.19649232145e-15\n",
      "33 [ 0.23281094  0.34816461] 6.67568196454e-15\n",
      "34 [ 0.10540543  0.78409251] -1.10715684621e-15\n",
      "35 [ 0.6011644   0.47965339] -8.65186373068e-15\n",
      "36 [ 0.91778853  0.05700325] 9.37415621206e-16\n",
      "37 [ 0.53476783  0.93306163] 8.91069626939e-15\n",
      "38 [ 0.90840873  0.51497806] -9.06248326134e-16\n",
      "39 [ 0.26812592  0.36045061] -2.69359617025e-16\n",
      "40 [ 0.51007356  0.95318345] -8.45057280435e-15\n",
      "41 [ 0.68134464  0.46409636] 2.21053657929e-15\n",
      "42 [ 0.01919413  0.35531809] -1.80329268195e-15\n",
      "43 [ 0.67328196  0.69111968] -4.82064772858e-15\n",
      "44 [ 0.44050927  0.62703396] 3.38379507087e-15\n",
      "45 [ 0.04977007  0.4369696 ] 3.10702720742e-15\n",
      "46 [ 0.83323475  0.99442281] 3.60081492506e-15\n",
      "47 [ 0.51757411  0.59065013] 3.72733665183e-15\n",
      "48 [ 0.31279883  0.45339148] 2.30137347131e-15\n",
      "49 [ 0.27468178  0.86289537] -1.92248760762e-15\n",
      "50 [ 0.68228987  0.13447931] 5.61366945769e-15\n",
      "51 [ 0.69083981  0.78833449] -4.966140149e-15\n",
      "52 [ 0.88525235  0.87812897] -4.9465738231e-15\n",
      "53 [ 0.56628819  0.53007849] 2.30515481472e-16\n",
      "54 [ 0.71738863  0.36688224] -4.26869053991e-15\n",
      "55 [ 0.99886592  0.80655147] -9.91411799165e-15\n",
      "56 [ 0.13448836  0.58538018] -2.62455850984e-15\n",
      "57 [ 0.74128285  0.18298166] 8.86848783501e-15\n",
      "58 [ 0.86914595  0.32117869] 9.92192428759e-16\n",
      "59 [ 0.78106811  0.9120409 ] -1.68639175218e-15\n",
      "60 [ 0.43255491  0.07342388] -4.15237230941e-15\n",
      "61 [ 0.39727948  0.82774185] -8.29363690015e-16\n",
      "62 [ 0.2010713   0.99995335] -2.12037420441e-15\n",
      "63 [ 0.10333665  0.04732309] -1.30946376273e-15\n",
      "64 [ 0.4518248  0.183433 ] -1.97648098868e-15\n",
      "65 [ 0.95429281  0.83788752] -5.27665764374e-15\n",
      "66 [ 0.01724743  0.8756445 ] 2.41848450836e-15\n",
      "67 [ 0.77150012  0.63045255] 2.59479366177e-15\n",
      "68 [ 0.13619402  0.39596588] 1.93747260826e-15\n",
      "69 [ 0.96889559  0.86723412] 8.54407440425e-15\n",
      "70 [ 0.8628314   0.65242647] -2.74528128401e-15\n",
      "71 [ 0.04042794  0.98815021] 8.48100958486e-15\n",
      "72 [ 0.95693102  0.72740933] 1.89096658496e-15\n",
      "73 [ 0.1189271   0.61175637] -6.83918254426e-15\n",
      "74 [ 0.02546447  0.5740251 ] 2.22570543483e-15\n",
      "75 [ 0.24820675  0.88885656] 4.10586830145e-15\n",
      "76 [ 0.56176734  0.23424457] 8.69278642239e-15\n",
      "77 [ 0.08418235  0.16717397] -4.70954730684e-15\n",
      "78 [ 0.56076079  0.30134557] 3.61237803271e-15\n",
      "79 [ 0.65358238  0.58131177] -3.05757067415e-15\n",
      "80 [ 0.6863132   0.93034421] -7.22353397923e-15\n",
      "81 [ 0.76165895  0.82483365] 7.86773961778e-15\n",
      "82 [ 0.79014056  0.37166483] 7.14820647902e-15\n",
      "83 [ 0.11665345  0.35823549] 6.12429781718e-15\n",
      "84 [ 0.63200922  0.1569944 ] 2.01648548402e-15\n",
      "85 [ 0.75251559  0.92010427] 1.05601351455e-15\n",
      "86 [ 0.57506654  0.7625695 ] -9.49431525958e-16\n",
      "87 [ 0.71263186  0.43363049] 5.26319270663e-16\n",
      "88 [ 0.26720854  0.79617323] 5.02104296939e-15\n",
      "89 [ 0.01847951  0.8416033 ] 4.03387135723e-16\n",
      "90 [ 0.02120146  0.01289594] 7.39071303138e-15\n",
      "91 [ 0.65548635  0.18350085] 1.13691794788e-14\n",
      "92 [ 0.85127203  0.41030158] -8.7414257082e-16\n",
      "93 [ 0.07924123  0.43099083] -4.2763234435e-16\n",
      "94 [ 0.75857404  0.54502929] -5.29318247904e-15\n",
      "95 [ 0.74164454  0.76675173] -6.59459334339e-15\n",
      "96 [ 0.01162212  0.93251278] -6.21691844137e-15\n",
      "97 [ 0.76982266  0.77527283] 9.72214631139e-15\n",
      "98 [ 0.29105141  0.69592202] -7.00355168993e-15\n",
      "99 [ 0.20061681  0.39424192] -5.05355288813e-15\n",
      "100 [ 0.05450897  0.60303309] -1.66980979224e-15\n",
      "101 [ 0.12362897  0.92548951] 6.45980843685e-15\n"
     ]
    }
   ],
   "source": [
    "w=np.array([  0.64629058,  23.94153018])\n",
    "step = 1\n",
    "num_data = galton_data.shape[0]\n",
    "feature_x, y = galton_data[:,0].reshape(num_data,1), galton_data[:,1]\n",
    "while True:\n",
    "    diff = gradient_check(w, feature_x, y, h=1)\n",
    "    step += 1\n",
    "    print(step, w, diff)\n",
    "    w=np.random.rand(2)\n",
    "    if step > 100:\n",
    "        break"
   ]
  },
  {
   "cell_type": "code",
   "execution_count": 14,
   "metadata": {},
   "outputs": [
    {
     "name": "stdout",
     "output_type": "stream",
     "text": [
      "[ -1.86738155e-05  -2.73189648e-07]\n",
      "1 [  0.64629059  23.94153018] 5.00029376555\n",
      "[  1.20862885e-04   1.76816672e-06]\n",
      "2 [  0.6462905   23.94153018] 5.00029376555\n",
      "[ -7.82263114e-04  -1.14441422e-05]\n",
      "3 [  0.64629112  23.94153019] 5.00029376558\n",
      "[  5.06305621e-03   7.40701319e-05]\n",
      "4 [  0.64628707  23.94153013] 5.00029376692\n",
      "[-0.03276971 -0.00047941]\n",
      "5 [  0.64631329  23.94153051] 5.00029382305\n",
      "[ 0.21209603  0.00310287]\n",
      "6 [  0.64614361  23.94152803] 5.00029617414\n",
      "[-1.37275311 -0.02008273]\n",
      "7 [  0.64724182  23.9415441 ] 5.00039466352\n",
      "[ 8.8848957   0.12998185]\n",
      "8 [  0.6401339   23.94144011] 5.0045204732\n",
      "[-57.50587688  -0.84128395]\n",
      "9 [  0.6861386   23.94211314] 5.17735439436\n",
      "[ 372.19636426    5.44505786]\n",
      "10 [  0.38838151  23.93775709] 12.4175245958\n",
      "[-2408.97350125   -35.24214998]\n",
      "11 [  2.31556031  23.96595081] 315.714841432\n",
      "[ 15591.64432263    228.09842754]\n",
      "12 [-10.15775515  23.78347207] 13021.1153832\n",
      "[-100914.09164817   -1476.32572583]\n",
      "13 [ 70.57351817  24.96453265] 545261.903431\n",
      "[ 653148.16593093    9555.25065323]\n",
      "14 [-451.94501457   17.32033213] 22841312.7467\n",
      "[-4227383.11063895   -61844.62781396]\n",
      "15 [ 2929.96147394    66.79603438] 956843167.486\n",
      "[ 27360970.9041197    400278.1432171]\n",
      "16 [-18958.81524936   -253.42648019] 40083030616.1\n",
      "[ -1.77088925e+08  -2.59072773e+06]\n",
      "17 [ 122712.32440809    1819.15570003] 1.67911461979e+12\n",
      "[  1.14617596e+09   1.67680156e+07]\n",
      "18 [-794228.44690872  -11595.25677345] 7.03396390788e+13\n",
      "[ -7.41841617e+09  -1.08527941e+08]\n",
      "19 [ 5140504.48554334    75227.0963885 ] 2.94659147591e+15\n",
      "[  4.80143539e+10   7.02427429e+08]\n",
      "20 [-33270978.65632914   -486714.84653899] 1.23435397731e+17\n",
      "[ -3.10764202e+11  -4.54633421e+09]\n",
      "21 [  2.15340383e+08   3.15035252e+06] 5.17082111229e+18\n",
      "[  2.01136497e+12   2.94253241e+10]\n",
      "22 [ -1.39375159e+09  -2.03899067e+07] 2.16610400799e+20\n",
      "[ -1.30181952e+13  -1.90450076e+11]\n",
      "23 [  9.02080455e+09   1.31970154e+08] 9.07400676133e+21\n",
      "[  8.42579085e+13   1.23265360e+12]\n",
      "24 [ -5.83855223e+10  -8.54152722e+08] 3.8011839875e+23\n",
      "[ -5.45344040e+14  -7.97812696e+12]\n",
      "25 [  3.77889710e+11   5.52834885e+09] 1.59235055548e+25\n",
      "[  3.52964045e+15   5.16369806e+13]\n",
      "26 [ -2.44582265e+12  -3.57812356e+10] 6.67050134875e+26\n",
      "[ -2.28449580e+16  -3.34210997e+14]\n",
      "27 [  1.58301437e+13   2.31587562e+11] 2.79433370312e+28\n",
      "[  1.47859850e+17   2.16312010e+15]\n",
      "28 [ -1.02457736e+14  -1.49890852e+12] 1.17057181104e+30\n",
      "[ -9.56996074e+17  -1.40004027e+16]\n",
      "29 [  6.63139123e+14   9.70141366e+12] 4.90363181492e+31\n",
      "[  6.19398362e+18   9.06150688e+16]\n",
      "30 [ -4.29204777e+15  -6.27906414e+13] 2.05417598044e+33\n",
      "[ -4.00894362e+19  -5.86489608e+17]\n",
      "31 [  2.77795012e+16   4.06401045e+14] 8.60513007071e+34\n",
      "[  2.59471609e+20   3.79594767e+18]\n",
      "32 [ -1.79797786e+17  -2.63035710e+15] 3.60476727597e+36\n",
      "[ -1.67938296e+21  -2.45685833e+19]\n",
      "33 [  1.16370858e+18   1.70245095e+16] 1.51006980803e+38\n",
      "[  1.08695018e+22   1.59015702e+20]\n",
      "34 [ -7.53189284e+18  -1.10188052e+17] 6.32581981176e+39\n",
      "[ -7.03508799e+22  -1.02920030e+21]\n",
      "35 [  4.87488111e+19   7.13172192e+17] 2.64994347136e+41\n",
      "[  4.55333318e+23   6.66131241e+21]\n",
      "36 [ -3.15517843e+20  -4.61587774e+18] 1.1100854293e+43\n",
      "[ -2.94706237e+24  -4.31141371e+22]\n",
      "37 [  2.04213205e+21   2.98754320e+19] 4.65024885876e+44\n",
      "[  1.90743270e+25   2.79048437e+23]\n",
      "38 [ -1.32173295e+22  -1.93363318e+20] 1.94803155483e+46\n",
      "[ -1.23455124e+26  -1.80609043e+24]\n",
      "39 [  8.55467695e+22   1.25150903e+21] 8.16048141483e+47\n",
      "[  7.99040910e+26   1.16895929e+25]\n",
      "40 [ -5.53685959e+23  -8.10016531e+21] 3.41849990862e+49\n",
      "[ -5.17164745e+27  -7.56587713e+25]\n",
      "41 [  3.58363200e+24   5.24268517e+22] 1.43204071318e+51\n",
      "[  3.34725507e+28   4.89687683e+26]\n",
      "42 [ -2.31944086e+25  -3.39323295e+23] 5.99894883439e+52\n",
      "[ -2.16645017e+29  -3.16941476e+27]\n",
      "43 [  1.50121605e+26   2.19620852e+24] 2.51301424508e+54\n",
      "[  1.40219560e+30   2.05134625e+28]\n",
      "44 [ -9.71634876e+26  -1.42145615e+25] 1.05272453063e+56\n",
      "[ -9.07545686e+30  -1.32769668e+29]\n",
      "45 [  6.28873061e+27   9.20011728e+25] 4.40995883554e+57\n",
      "[  5.87392495e+31   8.59327609e+29]\n",
      "46 [ -4.07026690e+28  -5.95460915e+26] 1.84737187795e+59\n",
      "[ -3.80179145e+32  -5.56184218e+30]\n",
      "47 [  2.63440647e+29   3.85401283e+27] 7.73880887036e+60\n",
      "[  2.46064060e+33   3.59980154e+31]\n",
      "48 [ -1.70507183e+30  -2.49443995e+28] 3.24185744337e+62\n",
      "[ -1.59260503e+34  -2.32990629e+32]\n",
      "49 [  1.10357684e+31   1.61448104e+29] 1.3580435774e+64\n",
      "[  1.03078473e+35   1.50798961e+33]\n",
      "50 [ -7.14270104e+31  -1.04494359e+30] 5.68896810034e+65\n"
     ]
    },
    {
     "data": {
      "image/png": "[encoded data removed]",
      "text/plain": [
       "<matplotlib.figure.Figure at 0x7fb310eace48>"
      ]
     },
     "metadata": {},
     "output_type": "display_data"
    }
   ],
   "source": [
    "%matplotlib inline\n",
    "w=np.random.rand(2)\n",
    "w=np.array([  0.64629058,  23.94153018])\n",
    "step = 1\n",
    "num_data = galton_data.shape[0]\n",
    "while True:\n",
    "    w, lostv = gradient_descent_step(w, galton_data[:,0].reshape(num_data,1), galton_data[:,1]) \n",
    "    print(step, w, lostv.sum()/ num_data)\n",
    "    step += 1\n",
    "    if step > 50:\n",
    "        break\n",
    "plt.plot(galton_data[:,0], galton_data[:,1], 'b+')\n",
    "pred = predict(w, galton_data[:,0].reshape(num_data,1))\n",
    "plt.plot(galton_data[:,0], pred.reshape(num_data,), 'gx') \n",
    "plt.show()"
   ]
  },
  {
   "cell_type": "code",
   "execution_count": 55,
   "metadata": {},
   "outputs": [
    {
     "data": {
      "text/plain": [
       "(array([  0.64629058,  23.94153018]),\n",
       " array([ 4640.27261443]),\n",
       " 2,\n",
       " array([  2.08181288e+03,   7.96301870e-01]))"
      ]
     },
     "execution_count": 55,
     "metadata": {},
     "output_type": "execute_result"
    }
   ],
   "source": [
    "np.linalg.lstsq(_extend_x_bias(galton_data[:,0].reshape(num_data,1)), galton_data[:,1])"
   ]
  },
  {
   "cell_type": "code",
   "execution_count": 53,
   "metadata": {
    "collapsed": true
   },
   "outputs": [],
   "source": [
    "np.linalg.lstsq?"
   ]
  },
  {
   "cell_type": "code",
   "execution_count": 71,
   "metadata": {},
   "outputs": [
    {
     "data": {
      "text/plain": [
       "array([[ 70.5,  61.7],\n",
       "       [ 68.5,  61.7],\n",
       "       [ 65.5,  61.7],\n",
       "       ..., \n",
       "       [ 69.5,  73.7],\n",
       "       [ 69.5,  73.7],\n",
       "       [ 69.5,  73.7]])"
      ]
     },
     "execution_count": 71,
     "metadata": {},
     "output_type": "execute_result"
    }
   ],
   "source": [
    "galton_data"
   ]
  },
  {
   "cell_type": "code",
   "execution_count": null,
   "metadata": {
    "collapsed": true
   },
   "outputs": [],
   "source": []
  }
 ],
 "metadata": {
  "kernelspec": {
   "display_name": "Python 2",
   "language": "python",
   "name": "python2"
  },
  "language_info": {
   "codemirror_mode": {
    "name": "ipython",
    "version": 3
   },
   "file_extension": ".py",
   "mimetype": "text/x-python",
   "name": "python",
   "nbconvert_exporter": "python",
   "pygments_lexer": "ipython3",
   "version": "3.4.6"
  }
 },
 "nbformat": 4,
 "nbformat_minor": 2
}
