{
 "cells": [
  {
   "cell_type": "code",
   "execution_count": 14,
   "metadata": {},
   "outputs": [],
   "source": [
    "import math\n",
    "import matplotlib.pyplot as plt\n",
    "import numpy as np"
   ]
  },
  {
   "cell_type": "code",
   "execution_count": 25,
   "metadata": {
    "collapsed": true
   },
   "outputs": [],
   "source": [
    "def f(x):\n",
    "    return (x+2)**2 -16 * (np.exp(-(x-2)**2))\n",
    "def df(x):\n",
    "    return 2*x +4 + 32 * (np.exp(-(x-2)**2)) * (x-2)\n",
    "\n",
    "def gradient_descent_step(x, eps=0.01):\n",
    "    fval = f(x)\n",
    "    dfval = df(x)\n",
    "    return x - eps * dfval\n",
    "    "
   ]
  },
  {
   "cell_type": "code",
   "execution_count": 28,
   "metadata": {
    "scrolled": true
   },
   "outputs": [
    {
     "data": {
      "image/png": "[encoded data removed]",
      "text/plain": [
       "<matplotlib.figure.Figure at 0x7fd61d1ef490>"
      ]
     },
     "metadata": {},
     "output_type": "display_data"
    }
   ],
   "source": [
    "%matplotlib inline\n",
    "\n",
    "curvex = np.linspace(-8,8,1000)\n",
    "res = list()\n",
    "x = 2\n",
    "prec = 0.001\n",
    "while True:\n",
    "    xnew = gradient_descent_step(x)\n",
    "    res.append(xnew)\n",
    "    if np.abs(x - xnew) <  prec or xnew > 4:\n",
    "        break\n",
    "    x = xnew\n",
    "plt.plot(curvex, f(curvex), 'b-')\n",
    "plt.plot(res, [f(r) for r in res], 'gx') \n",
    "plt.show()"
   ]
  },
  {
   "cell_type": "code",
   "execution_count": 102,
   "metadata": {
    "collapsed": true
   },
   "outputs": [],
   "source": [
    "def infer(w, f_length):\n",
    "    x = np.ones((f_length.shape[0], 2))\n",
    "    x[:, 0] = f_length\n",
    "    return np.multiply(w, x).sum(axis=1)\n",
    "def lost(w, f_length, s_length):\n",
    "    x = np.ones((f_length.shape[0], 2))\n",
    "    x[:, 0] = f_length\n",
    "    return (s_length-np.multiply(w, x).sum(axis=1))**2\n",
    "\n",
    "def dlost(w, f_length, s_length):\n",
    "    x = np.ones((f_length.shape[0], 2))\n",
    "    x[:, 0] = f_length\n",
    "    firstpart = np.tile(2*np.multiply(w, x).sum(axis=1) - s_length, (2,1)).transpose()\n",
    "    gradient = np.multiply(firstpart, x).sum(axis=0)\n",
    "    return gradient\n",
    "\n",
    "def gradient_descent_step(w, f_length, s_length, eps=0.01):\n",
    "    fval = lost(x, f_length, s_length)\n",
    "    dfval = dlost(x, f_length, s_length)\n",
    "    print(w, dfval)\n",
    "    return w - eps * dfval, fval.sum()\n",
    "\n"
   ]
  },
  {
   "cell_type": "code",
   "execution_count": 103,
   "metadata": {},
   "outputs": [
    {
     "name": "stdout",
     "output_type": "stream",
     "text": [
      "None\n"
     ]
    }
   ],
   "source": [
    "import sys\n",
    "print(sys.path.append('/home/lxmls2017/Desktop/workspace/lxmls-toolkit'))\n",
    "from lxmls.readers import galton\n",
    "galton_data = galton.load()"
   ]
  },
  {
   "cell_type": "code",
   "execution_count": 104,
   "metadata": {},
   "outputs": [
    {
     "data": {
      "text/plain": [
       "<function __main__.infer>"
      ]
     },
     "execution_count": 104,
     "metadata": {},
     "output_type": "execute_result"
    }
   ],
   "source": [
    "infer"
   ]
  },
  {
   "cell_type": "code",
   "execution_count": 105,
   "metadata": {},
   "outputs": [
    {
     "name": "stdout",
     "output_type": "stream",
     "text": [
      "(array([ 0.7694848 ,  0.21006358]), array([ 11097724.44891699,    162341.50781648]))\n",
      "(2,)\n",
      "(1, 2656920.4662648002)\n",
      "(array([-110976.47500437,   -1623.20501458]), array([ 11097724.44891699,    162341.50781648]))\n",
      "(2,)\n",
      "(2, 2656920.4662648002)\n",
      "(array([-221953.71949354,   -3246.62009275]), array([ 11097724.44891699,    162341.50781648]))\n",
      "(2,)\n",
      "(3, 2656920.4662648002)\n",
      "(array([-332930.96398271,   -4870.03517091]), array([ 11097724.44891699,    162341.50781648]))\n",
      "(2,)\n",
      "(4, 2656920.4662648002)\n",
      "(array([-443908.20847188,   -6493.45024908]), array([ 11097724.44891699,    162341.50781648]))\n",
      "(2,)\n",
      "(5, 2656920.4662648002)\n",
      "(array([-554885.45296105,   -8116.86532724]), array([ 11097724.44891699,    162341.50781648]))\n",
      "(2,)\n",
      "(6, 2656920.4662648002)\n",
      "(array([-665862.69745022,   -9740.28040541]), array([ 11097724.44891699,    162341.50781648]))\n",
      "(2,)\n",
      "(7, 2656920.4662648002)\n",
      "(array([-776839.94193939,  -11363.69548357]), array([ 11097724.44891699,    162341.50781648]))\n",
      "(2,)\n",
      "(8, 2656920.4662648002)\n",
      "(array([-887817.18642856,  -12987.11056174]), array([ 11097724.44891699,    162341.50781648]))\n",
      "(2,)\n",
      "(9, 2656920.4662648002)\n",
      "(array([-998794.43091773,  -14610.5256399 ]), array([ 11097724.44891699,    162341.50781648]))\n",
      "(2,)\n",
      "(10, 2656920.4662648002)\n"
     ]
    }
   ],
   "source": [
    "w=np.random.rand(2)\n",
    "step = 1\n",
    "while True:\n",
    "    w, lostv = gradient_descent_step(w, galton_data[:,0], galton_data[:,1]) \n",
    "    print(w.shape)\n",
    "    print(step, lostv)\n",
    "    step += 1\n",
    "    if step > 10:\n",
    "        break"
   ]
  },
  {
   "cell_type": "code",
   "execution_count": null,
   "metadata": {},
   "outputs": [],
   "source": []
  },
  {
   "cell_type": "code",
   "execution_count": 85,
   "metadata": {},
   "outputs": [
    {
     "data": {
      "text/plain": [
       "((928, 2), 2656920.4662648002)"
      ]
     },
     "execution_count": 85,
     "metadata": {},
     "output_type": "execute_result"
    }
   ],
   "source": [
    "neww.shape, lostv"
   ]
  },
  {
   "cell_type": "code",
   "execution_count": null,
   "metadata": {
    "collapsed": true
   },
   "outputs": [],
   "source": []
  }
 ],
 "metadata": {
  "kernelspec": {
   "display_name": "Python 2",
   "language": "python",
   "name": "python2"
  },
  "language_info": {
   "codemirror_mode": {
    "name": "ipython",
    "version": 2
   },
   "file_extension": ".py",
   "mimetype": "text/x-python",
   "name": "python",
   "nbconvert_exporter": "python",
   "pygments_lexer": "ipython2",
   "version": "2.7.13"
  }
 },
 "nbformat": 4,
 "nbformat_minor": 2
}
